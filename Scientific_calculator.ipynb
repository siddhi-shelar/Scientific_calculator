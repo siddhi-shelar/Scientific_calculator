{
  "nbformat": 4,
  "nbformat_minor": 0,
  "metadata": {
    "colab": {
      "provenance": []
    },
    "kernelspec": {
      "name": "python3",
      "display_name": "Python 3"
    },
    "language_info": {
      "name": "python"
    },
    "widgets": {
      "application/vnd.jupyter.widget-state+json": {
        "18eeca59c15a40a696e92bfab5644501": {
          "model_module": "@jupyter-widgets/controls",
          "model_name": "DropdownModel",
          "model_module_version": "1.5.0",
          "state": {
            "_dom_classes": [],
            "_model_module": "@jupyter-widgets/controls",
            "_model_module_version": "1.5.0",
            "_model_name": "DropdownModel",
            "_options_labels": [
              "Addition",
              "Subtraction",
              "Multiplication",
              "Division",
              "Square Root",
              "Power (x^y)",
              "Sine",
              "Cosine",
              "Tangent",
              "Log base 10",
              "Natural log (ln)"
            ],
            "_view_count": null,
            "_view_module": "@jupyter-widgets/controls",
            "_view_module_version": "1.5.0",
            "_view_name": "DropdownView",
            "description": "Operation:",
            "description_tooltip": null,
            "disabled": false,
            "index": 5,
            "layout": "IPY_MODEL_a66205ac7eaf4a86a9b5ad29ae7a2744",
            "style": "IPY_MODEL_8145b706f11848ecb75d6125e0320ae0"
          }
        },
        "a66205ac7eaf4a86a9b5ad29ae7a2744": {
          "model_module": "@jupyter-widgets/base",
          "model_name": "LayoutModel",
          "model_module_version": "1.2.0",
          "state": {
            "_model_module": "@jupyter-widgets/base",
            "_model_module_version": "1.2.0",
            "_model_name": "LayoutModel",
            "_view_count": null,
            "_view_module": "@jupyter-widgets/base",
            "_view_module_version": "1.2.0",
            "_view_name": "LayoutView",
            "align_content": null,
            "align_items": null,
            "align_self": null,
            "border": null,
            "bottom": null,
            "display": null,
            "flex": null,
            "flex_flow": null,
            "grid_area": null,
            "grid_auto_columns": null,
            "grid_auto_flow": null,
            "grid_auto_rows": null,
            "grid_column": null,
            "grid_gap": null,
            "grid_row": null,
            "grid_template_areas": null,
            "grid_template_columns": null,
            "grid_template_rows": null,
            "height": null,
            "justify_content": null,
            "justify_items": null,
            "left": null,
            "margin": null,
            "max_height": null,
            "max_width": null,
            "min_height": null,
            "min_width": null,
            "object_fit": null,
            "object_position": null,
            "order": null,
            "overflow": null,
            "overflow_x": null,
            "overflow_y": null,
            "padding": null,
            "right": null,
            "top": null,
            "visibility": null,
            "width": null
          }
        },
        "8145b706f11848ecb75d6125e0320ae0": {
          "model_module": "@jupyter-widgets/controls",
          "model_name": "DescriptionStyleModel",
          "model_module_version": "1.5.0",
          "state": {
            "_model_module": "@jupyter-widgets/controls",
            "_model_module_version": "1.5.0",
            "_model_name": "DescriptionStyleModel",
            "_view_count": null,
            "_view_module": "@jupyter-widgets/base",
            "_view_module_version": "1.2.0",
            "_view_name": "StyleView",
            "description_width": "initial"
          }
        },
        "dec40fa9cf6e44c09f518422c78dc764": {
          "model_module": "@jupyter-widgets/controls",
          "model_name": "FloatTextModel",
          "model_module_version": "1.5.0",
          "state": {
            "_dom_classes": [],
            "_model_module": "@jupyter-widgets/controls",
            "_model_module_version": "1.5.0",
            "_model_name": "FloatTextModel",
            "_view_count": null,
            "_view_module": "@jupyter-widgets/controls",
            "_view_module_version": "1.5.0",
            "_view_name": "FloatTextView",
            "continuous_update": false,
            "description": "Input 1:",
            "description_tooltip": null,
            "disabled": false,
            "layout": "IPY_MODEL_a8e61154141b4e27816faec63eb751b1",
            "step": null,
            "style": "IPY_MODEL_04eed1aab78743d2b9d31d4cc238b5b3",
            "value": 65
          }
        },
        "a8e61154141b4e27816faec63eb751b1": {
          "model_module": "@jupyter-widgets/base",
          "model_name": "LayoutModel",
          "model_module_version": "1.2.0",
          "state": {
            "_model_module": "@jupyter-widgets/base",
            "_model_module_version": "1.2.0",
            "_model_name": "LayoutModel",
            "_view_count": null,
            "_view_module": "@jupyter-widgets/base",
            "_view_module_version": "1.2.0",
            "_view_name": "LayoutView",
            "align_content": null,
            "align_items": null,
            "align_self": null,
            "border": null,
            "bottom": null,
            "display": null,
            "flex": null,
            "flex_flow": null,
            "grid_area": null,
            "grid_auto_columns": null,
            "grid_auto_flow": null,
            "grid_auto_rows": null,
            "grid_column": null,
            "grid_gap": null,
            "grid_row": null,
            "grid_template_areas": null,
            "grid_template_columns": null,
            "grid_template_rows": null,
            "height": null,
            "justify_content": null,
            "justify_items": null,
            "left": null,
            "margin": null,
            "max_height": null,
            "max_width": null,
            "min_height": null,
            "min_width": null,
            "object_fit": null,
            "object_position": null,
            "order": null,
            "overflow": null,
            "overflow_x": null,
            "overflow_y": null,
            "padding": null,
            "right": null,
            "top": null,
            "visibility": null,
            "width": null
          }
        },
        "04eed1aab78743d2b9d31d4cc238b5b3": {
          "model_module": "@jupyter-widgets/controls",
          "model_name": "DescriptionStyleModel",
          "model_module_version": "1.5.0",
          "state": {
            "_model_module": "@jupyter-widgets/controls",
            "_model_module_version": "1.5.0",
            "_model_name": "DescriptionStyleModel",
            "_view_count": null,
            "_view_module": "@jupyter-widgets/base",
            "_view_module_version": "1.2.0",
            "_view_name": "StyleView",
            "description_width": ""
          }
        },
        "5c85869c48e74b9580183075429d97c2": {
          "model_module": "@jupyter-widgets/controls",
          "model_name": "FloatTextModel",
          "model_module_version": "1.5.0",
          "state": {
            "_dom_classes": [],
            "_model_module": "@jupyter-widgets/controls",
            "_model_module_version": "1.5.0",
            "_model_name": "FloatTextModel",
            "_view_count": null,
            "_view_module": "@jupyter-widgets/controls",
            "_view_module_version": "1.5.0",
            "_view_name": "FloatTextView",
            "continuous_update": false,
            "description": "Input 2:",
            "description_tooltip": null,
            "disabled": false,
            "layout": "IPY_MODEL_2b33c24ea6264dc69c87a103064fbef9",
            "step": null,
            "style": "IPY_MODEL_5c703186bbb1482c8341d2e492e97555",
            "value": 2
          }
        },
        "2b33c24ea6264dc69c87a103064fbef9": {
          "model_module": "@jupyter-widgets/base",
          "model_name": "LayoutModel",
          "model_module_version": "1.2.0",
          "state": {
            "_model_module": "@jupyter-widgets/base",
            "_model_module_version": "1.2.0",
            "_model_name": "LayoutModel",
            "_view_count": null,
            "_view_module": "@jupyter-widgets/base",
            "_view_module_version": "1.2.0",
            "_view_name": "LayoutView",
            "align_content": null,
            "align_items": null,
            "align_self": null,
            "border": null,
            "bottom": null,
            "display": null,
            "flex": null,
            "flex_flow": null,
            "grid_area": null,
            "grid_auto_columns": null,
            "grid_auto_flow": null,
            "grid_auto_rows": null,
            "grid_column": null,
            "grid_gap": null,
            "grid_row": null,
            "grid_template_areas": null,
            "grid_template_columns": null,
            "grid_template_rows": null,
            "height": null,
            "justify_content": null,
            "justify_items": null,
            "left": null,
            "margin": null,
            "max_height": null,
            "max_width": null,
            "min_height": null,
            "min_width": null,
            "object_fit": null,
            "object_position": null,
            "order": null,
            "overflow": null,
            "overflow_x": null,
            "overflow_y": null,
            "padding": null,
            "right": null,
            "top": null,
            "visibility": null,
            "width": null
          }
        },
        "5c703186bbb1482c8341d2e492e97555": {
          "model_module": "@jupyter-widgets/controls",
          "model_name": "DescriptionStyleModel",
          "model_module_version": "1.5.0",
          "state": {
            "_model_module": "@jupyter-widgets/controls",
            "_model_module_version": "1.5.0",
            "_model_name": "DescriptionStyleModel",
            "_view_count": null,
            "_view_module": "@jupyter-widgets/base",
            "_view_module_version": "1.2.0",
            "_view_name": "StyleView",
            "description_width": ""
          }
        },
        "5290561f1d8e4fd6bf20bd474a4af6e0": {
          "model_module": "@jupyter-widgets/controls",
          "model_name": "ButtonModel",
          "model_module_version": "1.5.0",
          "state": {
            "_dom_classes": [],
            "_model_module": "@jupyter-widgets/controls",
            "_model_module_version": "1.5.0",
            "_model_name": "ButtonModel",
            "_view_count": null,
            "_view_module": "@jupyter-widgets/controls",
            "_view_module_version": "1.5.0",
            "_view_name": "ButtonView",
            "button_style": "success",
            "description": "Calculate",
            "disabled": false,
            "icon": "",
            "layout": "IPY_MODEL_497fe9b9806f41178b336ef602695783",
            "style": "IPY_MODEL_f607542a0a1340569d0f6b0009c5a8d3",
            "tooltip": ""
          }
        },
        "497fe9b9806f41178b336ef602695783": {
          "model_module": "@jupyter-widgets/base",
          "model_name": "LayoutModel",
          "model_module_version": "1.2.0",
          "state": {
            "_model_module": "@jupyter-widgets/base",
            "_model_module_version": "1.2.0",
            "_model_name": "LayoutModel",
            "_view_count": null,
            "_view_module": "@jupyter-widgets/base",
            "_view_module_version": "1.2.0",
            "_view_name": "LayoutView",
            "align_content": null,
            "align_items": null,
            "align_self": null,
            "border": null,
            "bottom": null,
            "display": null,
            "flex": null,
            "flex_flow": null,
            "grid_area": null,
            "grid_auto_columns": null,
            "grid_auto_flow": null,
            "grid_auto_rows": null,
            "grid_column": null,
            "grid_gap": null,
            "grid_row": null,
            "grid_template_areas": null,
            "grid_template_columns": null,
            "grid_template_rows": null,
            "height": null,
            "justify_content": null,
            "justify_items": null,
            "left": null,
            "margin": null,
            "max_height": null,
            "max_width": null,
            "min_height": null,
            "min_width": null,
            "object_fit": null,
            "object_position": null,
            "order": null,
            "overflow": null,
            "overflow_x": null,
            "overflow_y": null,
            "padding": null,
            "right": null,
            "top": null,
            "visibility": null,
            "width": null
          }
        },
        "f607542a0a1340569d0f6b0009c5a8d3": {
          "model_module": "@jupyter-widgets/controls",
          "model_name": "ButtonStyleModel",
          "model_module_version": "1.5.0",
          "state": {
            "_model_module": "@jupyter-widgets/controls",
            "_model_module_version": "1.5.0",
            "_model_name": "ButtonStyleModel",
            "_view_count": null,
            "_view_module": "@jupyter-widgets/base",
            "_view_module_version": "1.2.0",
            "_view_name": "StyleView",
            "button_color": null,
            "font_weight": ""
          }
        },
        "de70dec006334d88984bd17860c64261": {
          "model_module": "@jupyter-widgets/output",
          "model_name": "OutputModel",
          "model_module_version": "1.0.0",
          "state": {
            "_dom_classes": [],
            "_model_module": "@jupyter-widgets/output",
            "_model_module_version": "1.0.0",
            "_model_name": "OutputModel",
            "_view_count": null,
            "_view_module": "@jupyter-widgets/output",
            "_view_module_version": "1.0.0",
            "_view_name": "OutputView",
            "layout": "IPY_MODEL_c2c32d8bd9354a4f84df5a4697f2ea76",
            "msg_id": "",
            "outputs": [
              {
                "output_type": "stream",
                "name": "stdout",
                "text": [
                  "Result: 4225.0\n"
                ]
              }
            ]
          }
        },
        "c2c32d8bd9354a4f84df5a4697f2ea76": {
          "model_module": "@jupyter-widgets/base",
          "model_name": "LayoutModel",
          "model_module_version": "1.2.0",
          "state": {
            "_model_module": "@jupyter-widgets/base",
            "_model_module_version": "1.2.0",
            "_model_name": "LayoutModel",
            "_view_count": null,
            "_view_module": "@jupyter-widgets/base",
            "_view_module_version": "1.2.0",
            "_view_name": "LayoutView",
            "align_content": null,
            "align_items": null,
            "align_self": null,
            "border": null,
            "bottom": null,
            "display": null,
            "flex": null,
            "flex_flow": null,
            "grid_area": null,
            "grid_auto_columns": null,
            "grid_auto_flow": null,
            "grid_auto_rows": null,
            "grid_column": null,
            "grid_gap": null,
            "grid_row": null,
            "grid_template_areas": null,
            "grid_template_columns": null,
            "grid_template_rows": null,
            "height": null,
            "justify_content": null,
            "justify_items": null,
            "left": null,
            "margin": null,
            "max_height": null,
            "max_width": null,
            "min_height": null,
            "min_width": null,
            "object_fit": null,
            "object_position": null,
            "order": null,
            "overflow": null,
            "overflow_x": null,
            "overflow_y": null,
            "padding": null,
            "right": null,
            "top": null,
            "visibility": null,
            "width": null
          }
        }
      }
    }
  },
  "cells": [
    {
      "cell_type": "code",
      "execution_count": 1,
      "metadata": {
        "colab": {
          "base_uri": "https://localhost:8080/",
          "height": 158,
          "referenced_widgets": [
            "18eeca59c15a40a696e92bfab5644501",
            "a66205ac7eaf4a86a9b5ad29ae7a2744",
            "8145b706f11848ecb75d6125e0320ae0",
            "dec40fa9cf6e44c09f518422c78dc764",
            "a8e61154141b4e27816faec63eb751b1",
            "04eed1aab78743d2b9d31d4cc238b5b3",
            "5c85869c48e74b9580183075429d97c2",
            "2b33c24ea6264dc69c87a103064fbef9",
            "5c703186bbb1482c8341d2e492e97555",
            "5290561f1d8e4fd6bf20bd474a4af6e0",
            "497fe9b9806f41178b336ef602695783",
            "f607542a0a1340569d0f6b0009c5a8d3",
            "de70dec006334d88984bd17860c64261",
            "c2c32d8bd9354a4f84df5a4697f2ea76"
          ]
        },
        "id": "hWzosFGWxokw",
        "outputId": "88a6c549-d01a-49b4-cf10-5c4a88ba21e5"
      },
      "outputs": [
        {
          "output_type": "display_data",
          "data": {
            "text/plain": [
              "Dropdown(description='Operation:', options=(('Addition', 'add'), ('Subtraction', 'subtract'), ('Multiplication…"
            ],
            "application/vnd.jupyter.widget-view+json": {
              "version_major": 2,
              "version_minor": 0,
              "model_id": "18eeca59c15a40a696e92bfab5644501"
            }
          },
          "metadata": {}
        },
        {
          "output_type": "display_data",
          "data": {
            "text/plain": [
              "FloatText(value=0.0, description='Input 1:')"
            ],
            "application/vnd.jupyter.widget-view+json": {
              "version_major": 2,
              "version_minor": 0,
              "model_id": "dec40fa9cf6e44c09f518422c78dc764"
            }
          },
          "metadata": {}
        },
        {
          "output_type": "display_data",
          "data": {
            "text/plain": [
              "FloatText(value=0.0, description='Input 2:')"
            ],
            "application/vnd.jupyter.widget-view+json": {
              "version_major": 2,
              "version_minor": 0,
              "model_id": "5c85869c48e74b9580183075429d97c2"
            }
          },
          "metadata": {}
        },
        {
          "output_type": "display_data",
          "data": {
            "text/plain": [
              "Button(button_style='success', description='Calculate', style=ButtonStyle())"
            ],
            "application/vnd.jupyter.widget-view+json": {
              "version_major": 2,
              "version_minor": 0,
              "model_id": "5290561f1d8e4fd6bf20bd474a4af6e0"
            }
          },
          "metadata": {}
        },
        {
          "output_type": "display_data",
          "data": {
            "text/plain": [
              "Output()"
            ],
            "application/vnd.jupyter.widget-view+json": {
              "version_major": 2,
              "version_minor": 0,
              "model_id": "de70dec006334d88984bd17860c64261"
            }
          },
          "metadata": {}
        }
      ],
      "source": [
        "import math\n",
        "import ipywidgets as widgets\n",
        "from IPython.display import display, clear_output\n",
        "\n",
        "# Dropdown for operation\n",
        "operation = widgets.Dropdown(\n",
        "    options=[\n",
        "        ('Addition', 'add'),\n",
        "        ('Subtraction', 'subtract'),\n",
        "        ('Multiplication', 'multiply'),\n",
        "        ('Division', 'divide'),\n",
        "        ('Square Root', 'sqrt'),\n",
        "        ('Power (x^y)', 'power'),\n",
        "        ('Sine', 'sin'),\n",
        "        ('Cosine', 'cos'),\n",
        "        ('Tangent', 'tan'),\n",
        "        ('Log base 10', 'log10'),\n",
        "        ('Natural log (ln)', 'ln')\n",
        "    ],\n",
        "    description='Operation:',\n",
        "    style={'description_width': 'initial'}\n",
        ")\n",
        "\n",
        "# Input fields\n",
        "input1 = widgets.FloatText(description=\"Input 1:\")\n",
        "input2 = widgets.FloatText(description=\"Input 2:\")\n",
        "output = widgets.Output()\n",
        "\n",
        "# Button\n",
        "button = widgets.Button(description=\"Calculate\", button_style='success')\n",
        "\n",
        "# Logic\n",
        "def calculate(b):\n",
        "    with output:\n",
        "        clear_output()\n",
        "        try:\n",
        "            op = operation.value\n",
        "            a = input1.value\n",
        "            b = input2.value\n",
        "            result = None\n",
        "\n",
        "            if op == 'add':\n",
        "                result = a + b\n",
        "            elif op == 'subtract':\n",
        "                result = a - b\n",
        "            elif op == 'multiply':\n",
        "                result = a * b\n",
        "            elif op == 'divide':\n",
        "                result = \"Error: Division by zero\" if b == 0 else a / b\n",
        "            elif op == 'sqrt':\n",
        "                result = \"Error: Negative input\" if a < 0 else math.sqrt(a)\n",
        "            elif op == 'power':\n",
        "                result = math.pow(a, b)\n",
        "            elif op == 'sin':\n",
        "                result = math.sin(math.radians(a))\n",
        "            elif op == 'cos':\n",
        "                result = math.cos(math.radians(a))\n",
        "            elif op == 'tan':\n",
        "                result = math.tan(math.radians(a))\n",
        "            elif op == 'log10':\n",
        "                result = \"Error: Input must be positive\" if a <= 0 else math.log10(a)\n",
        "            elif op == 'ln':\n",
        "                result = \"Error: Input must be positive\" if a <= 0 else math.log(a)\n",
        "\n",
        "            print(f\"Result: {result}\")\n",
        "        except Exception as e:\n",
        "            print(\"Error:\", e)\n",
        "\n",
        "# Bind button\n",
        "button.on_click(calculate)\n",
        "\n",
        "# Display\n",
        "display(operation, input1, input2, button, output)\n"
      ]
    }
  ]
}